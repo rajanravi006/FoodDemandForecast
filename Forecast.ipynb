{
 "cells": [
  {
   "cell_type": "code",
   "execution_count": 1,
   "id": "251b0587",
   "metadata": {
    "id": "251b0587"
   },
   "outputs": [],
   "source": [
    "import pandas as pd\n",
    "import numpy as np\n",
    "import warnings\n",
    "warnings.filterwarnings('ignore') "
   ]
  },
  {
   "cell_type": "code",
   "execution_count": 2,
   "id": "6a0965fb",
   "metadata": {
    "id": "6a0965fb"
   },
   "outputs": [],
   "source": [
    "df1 = pd.read_csv(\"data/train.csv\")\n",
    "df2 = pd.read_csv(\"data/meal_info.csv\")\n",
    "df3 = pd.read_csv(\"data/fulfilment_center_info.csv\")"
   ]
  },
  {
   "cell_type": "code",
   "execution_count": 3,
   "id": "13c3152e",
   "metadata": {
    "id": "13c3152e"
   },
   "outputs": [],
   "source": [
    "df = pd.merge(df1, df2,  on=\"meal_id\", how=\"outer\")"
   ]
  },
  {
   "cell_type": "code",
   "execution_count": 4,
   "id": "551b917f",
   "metadata": {
    "id": "551b917f"
   },
   "outputs": [],
   "source": [
    "dff = pd.merge(df, df3, on=\"center_id\", how=\"outer\")"
   ]
  },
  {
   "cell_type": "code",
   "execution_count": 5,
   "id": "09571dc1",
   "metadata": {
    "colab": {
     "base_uri": "https://localhost:8080/",
     "height": 437
    },
    "id": "09571dc1",
    "outputId": "ff0d6209-e23d-4c1f-8905-d9c8ab76c7d6"
   },
   "outputs": [
    {
     "data": {
      "text/html": [
       "<div>\n",
       "<style scoped>\n",
       "    .dataframe tbody tr th:only-of-type {\n",
       "        vertical-align: middle;\n",
       "    }\n",
       "\n",
       "    .dataframe tbody tr th {\n",
       "        vertical-align: top;\n",
       "    }\n",
       "\n",
       "    .dataframe thead th {\n",
       "        text-align: right;\n",
       "    }\n",
       "</style>\n",
       "<table border=\"1\" class=\"dataframe\">\n",
       "  <thead>\n",
       "    <tr style=\"text-align: right;\">\n",
       "      <th></th>\n",
       "      <th>id</th>\n",
       "      <th>week</th>\n",
       "      <th>center_id</th>\n",
       "      <th>meal_id</th>\n",
       "      <th>checkout_price</th>\n",
       "      <th>base_price</th>\n",
       "      <th>emailer_for_promotion</th>\n",
       "      <th>homepage_featured</th>\n",
       "      <th>num_orders</th>\n",
       "      <th>category</th>\n",
       "      <th>cuisine</th>\n",
       "      <th>city_code</th>\n",
       "      <th>region_code</th>\n",
       "      <th>center_type</th>\n",
       "      <th>op_area</th>\n",
       "    </tr>\n",
       "  </thead>\n",
       "  <tbody>\n",
       "    <tr>\n",
       "      <th>0</th>\n",
       "      <td>1379560</td>\n",
       "      <td>1</td>\n",
       "      <td>55</td>\n",
       "      <td>1885</td>\n",
       "      <td>136.83</td>\n",
       "      <td>152.29</td>\n",
       "      <td>0</td>\n",
       "      <td>0</td>\n",
       "      <td>177</td>\n",
       "      <td>Beverages</td>\n",
       "      <td>Thai</td>\n",
       "      <td>647</td>\n",
       "      <td>56</td>\n",
       "      <td>TYPE_C</td>\n",
       "      <td>2.0</td>\n",
       "    </tr>\n",
       "    <tr>\n",
       "      <th>1</th>\n",
       "      <td>1018704</td>\n",
       "      <td>2</td>\n",
       "      <td>55</td>\n",
       "      <td>1885</td>\n",
       "      <td>135.83</td>\n",
       "      <td>152.29</td>\n",
       "      <td>0</td>\n",
       "      <td>0</td>\n",
       "      <td>323</td>\n",
       "      <td>Beverages</td>\n",
       "      <td>Thai</td>\n",
       "      <td>647</td>\n",
       "      <td>56</td>\n",
       "      <td>TYPE_C</td>\n",
       "      <td>2.0</td>\n",
       "    </tr>\n",
       "    <tr>\n",
       "      <th>2</th>\n",
       "      <td>1196273</td>\n",
       "      <td>3</td>\n",
       "      <td>55</td>\n",
       "      <td>1885</td>\n",
       "      <td>132.92</td>\n",
       "      <td>133.92</td>\n",
       "      <td>0</td>\n",
       "      <td>0</td>\n",
       "      <td>96</td>\n",
       "      <td>Beverages</td>\n",
       "      <td>Thai</td>\n",
       "      <td>647</td>\n",
       "      <td>56</td>\n",
       "      <td>TYPE_C</td>\n",
       "      <td>2.0</td>\n",
       "    </tr>\n",
       "    <tr>\n",
       "      <th>3</th>\n",
       "      <td>1116527</td>\n",
       "      <td>4</td>\n",
       "      <td>55</td>\n",
       "      <td>1885</td>\n",
       "      <td>135.86</td>\n",
       "      <td>134.86</td>\n",
       "      <td>0</td>\n",
       "      <td>0</td>\n",
       "      <td>163</td>\n",
       "      <td>Beverages</td>\n",
       "      <td>Thai</td>\n",
       "      <td>647</td>\n",
       "      <td>56</td>\n",
       "      <td>TYPE_C</td>\n",
       "      <td>2.0</td>\n",
       "    </tr>\n",
       "    <tr>\n",
       "      <th>4</th>\n",
       "      <td>1343872</td>\n",
       "      <td>5</td>\n",
       "      <td>55</td>\n",
       "      <td>1885</td>\n",
       "      <td>146.50</td>\n",
       "      <td>147.50</td>\n",
       "      <td>0</td>\n",
       "      <td>0</td>\n",
       "      <td>215</td>\n",
       "      <td>Beverages</td>\n",
       "      <td>Thai</td>\n",
       "      <td>647</td>\n",
       "      <td>56</td>\n",
       "      <td>TYPE_C</td>\n",
       "      <td>2.0</td>\n",
       "    </tr>\n",
       "    <tr>\n",
       "      <th>...</th>\n",
       "      <td>...</td>\n",
       "      <td>...</td>\n",
       "      <td>...</td>\n",
       "      <td>...</td>\n",
       "      <td>...</td>\n",
       "      <td>...</td>\n",
       "      <td>...</td>\n",
       "      <td>...</td>\n",
       "      <td>...</td>\n",
       "      <td>...</td>\n",
       "      <td>...</td>\n",
       "      <td>...</td>\n",
       "      <td>...</td>\n",
       "      <td>...</td>\n",
       "      <td>...</td>\n",
       "    </tr>\n",
       "    <tr>\n",
       "      <th>456543</th>\n",
       "      <td>1437396</td>\n",
       "      <td>141</td>\n",
       "      <td>61</td>\n",
       "      <td>2104</td>\n",
       "      <td>583.03</td>\n",
       "      <td>630.53</td>\n",
       "      <td>0</td>\n",
       "      <td>1</td>\n",
       "      <td>13</td>\n",
       "      <td>Fish</td>\n",
       "      <td>Continental</td>\n",
       "      <td>473</td>\n",
       "      <td>77</td>\n",
       "      <td>TYPE_A</td>\n",
       "      <td>4.5</td>\n",
       "    </tr>\n",
       "    <tr>\n",
       "      <th>456544</th>\n",
       "      <td>1060716</td>\n",
       "      <td>142</td>\n",
       "      <td>61</td>\n",
       "      <td>2104</td>\n",
       "      <td>581.03</td>\n",
       "      <td>582.03</td>\n",
       "      <td>0</td>\n",
       "      <td>0</td>\n",
       "      <td>42</td>\n",
       "      <td>Fish</td>\n",
       "      <td>Continental</td>\n",
       "      <td>473</td>\n",
       "      <td>77</td>\n",
       "      <td>TYPE_A</td>\n",
       "      <td>4.5</td>\n",
       "    </tr>\n",
       "    <tr>\n",
       "      <th>456545</th>\n",
       "      <td>1029231</td>\n",
       "      <td>143</td>\n",
       "      <td>61</td>\n",
       "      <td>2104</td>\n",
       "      <td>583.03</td>\n",
       "      <td>581.03</td>\n",
       "      <td>0</td>\n",
       "      <td>0</td>\n",
       "      <td>40</td>\n",
       "      <td>Fish</td>\n",
       "      <td>Continental</td>\n",
       "      <td>473</td>\n",
       "      <td>77</td>\n",
       "      <td>TYPE_A</td>\n",
       "      <td>4.5</td>\n",
       "    </tr>\n",
       "    <tr>\n",
       "      <th>456546</th>\n",
       "      <td>1141147</td>\n",
       "      <td>144</td>\n",
       "      <td>61</td>\n",
       "      <td>2104</td>\n",
       "      <td>582.03</td>\n",
       "      <td>581.03</td>\n",
       "      <td>0</td>\n",
       "      <td>0</td>\n",
       "      <td>53</td>\n",
       "      <td>Fish</td>\n",
       "      <td>Continental</td>\n",
       "      <td>473</td>\n",
       "      <td>77</td>\n",
       "      <td>TYPE_A</td>\n",
       "      <td>4.5</td>\n",
       "    </tr>\n",
       "    <tr>\n",
       "      <th>456547</th>\n",
       "      <td>1443704</td>\n",
       "      <td>145</td>\n",
       "      <td>61</td>\n",
       "      <td>2104</td>\n",
       "      <td>581.03</td>\n",
       "      <td>582.03</td>\n",
       "      <td>0</td>\n",
       "      <td>0</td>\n",
       "      <td>27</td>\n",
       "      <td>Fish</td>\n",
       "      <td>Continental</td>\n",
       "      <td>473</td>\n",
       "      <td>77</td>\n",
       "      <td>TYPE_A</td>\n",
       "      <td>4.5</td>\n",
       "    </tr>\n",
       "  </tbody>\n",
       "</table>\n",
       "<p>456548 rows × 15 columns</p>\n",
       "</div>"
      ],
      "text/plain": [
       "             id  week  center_id  meal_id  checkout_price  base_price  \\\n",
       "0       1379560     1         55     1885          136.83      152.29   \n",
       "1       1018704     2         55     1885          135.83      152.29   \n",
       "2       1196273     3         55     1885          132.92      133.92   \n",
       "3       1116527     4         55     1885          135.86      134.86   \n",
       "4       1343872     5         55     1885          146.50      147.50   \n",
       "...         ...   ...        ...      ...             ...         ...   \n",
       "456543  1437396   141         61     2104          583.03      630.53   \n",
       "456544  1060716   142         61     2104          581.03      582.03   \n",
       "456545  1029231   143         61     2104          583.03      581.03   \n",
       "456546  1141147   144         61     2104          582.03      581.03   \n",
       "456547  1443704   145         61     2104          581.03      582.03   \n",
       "\n",
       "        emailer_for_promotion  homepage_featured  num_orders   category  \\\n",
       "0                           0                  0         177  Beverages   \n",
       "1                           0                  0         323  Beverages   \n",
       "2                           0                  0          96  Beverages   \n",
       "3                           0                  0         163  Beverages   \n",
       "4                           0                  0         215  Beverages   \n",
       "...                       ...                ...         ...        ...   \n",
       "456543                      0                  1          13       Fish   \n",
       "456544                      0                  0          42       Fish   \n",
       "456545                      0                  0          40       Fish   \n",
       "456546                      0                  0          53       Fish   \n",
       "456547                      0                  0          27       Fish   \n",
       "\n",
       "            cuisine  city_code  region_code center_type  op_area  \n",
       "0              Thai        647           56      TYPE_C      2.0  \n",
       "1              Thai        647           56      TYPE_C      2.0  \n",
       "2              Thai        647           56      TYPE_C      2.0  \n",
       "3              Thai        647           56      TYPE_C      2.0  \n",
       "4              Thai        647           56      TYPE_C      2.0  \n",
       "...             ...        ...          ...         ...      ...  \n",
       "456543  Continental        473           77      TYPE_A      4.5  \n",
       "456544  Continental        473           77      TYPE_A      4.5  \n",
       "456545  Continental        473           77      TYPE_A      4.5  \n",
       "456546  Continental        473           77      TYPE_A      4.5  \n",
       "456547  Continental        473           77      TYPE_A      4.5  \n",
       "\n",
       "[456548 rows x 15 columns]"
      ]
     },
     "execution_count": 5,
     "metadata": {},
     "output_type": "execute_result"
    }
   ],
   "source": [
    "dff"
   ]
  },
  {
   "cell_type": "code",
   "execution_count": 6,
   "id": "400af716",
   "metadata": {
    "colab": {
     "base_uri": "https://localhost:8080/",
     "height": 223
    },
    "id": "400af716",
    "outputId": "3b2a10b4-6067-464d-e615-278961281ebf"
   },
   "outputs": [
    {
     "data": {
      "text/html": [
       "<div>\n",
       "<style scoped>\n",
       "    .dataframe tbody tr th:only-of-type {\n",
       "        vertical-align: middle;\n",
       "    }\n",
       "\n",
       "    .dataframe tbody tr th {\n",
       "        vertical-align: top;\n",
       "    }\n",
       "\n",
       "    .dataframe thead th {\n",
       "        text-align: right;\n",
       "    }\n",
       "</style>\n",
       "<table border=\"1\" class=\"dataframe\">\n",
       "  <thead>\n",
       "    <tr style=\"text-align: right;\">\n",
       "      <th></th>\n",
       "      <th>id</th>\n",
       "      <th>week</th>\n",
       "      <th>center_id</th>\n",
       "      <th>meal_id</th>\n",
       "      <th>checkout_price</th>\n",
       "      <th>base_price</th>\n",
       "      <th>emailer_for_promotion</th>\n",
       "      <th>homepage_featured</th>\n",
       "      <th>num_orders</th>\n",
       "      <th>category</th>\n",
       "      <th>cuisine</th>\n",
       "      <th>city_code</th>\n",
       "      <th>region_code</th>\n",
       "      <th>center_type</th>\n",
       "      <th>op_area</th>\n",
       "    </tr>\n",
       "  </thead>\n",
       "  <tbody>\n",
       "    <tr>\n",
       "      <th>456543</th>\n",
       "      <td>1437396</td>\n",
       "      <td>141</td>\n",
       "      <td>61</td>\n",
       "      <td>2104</td>\n",
       "      <td>583.03</td>\n",
       "      <td>630.53</td>\n",
       "      <td>0</td>\n",
       "      <td>1</td>\n",
       "      <td>13</td>\n",
       "      <td>Fish</td>\n",
       "      <td>Continental</td>\n",
       "      <td>473</td>\n",
       "      <td>77</td>\n",
       "      <td>TYPE_A</td>\n",
       "      <td>4.5</td>\n",
       "    </tr>\n",
       "    <tr>\n",
       "      <th>456544</th>\n",
       "      <td>1060716</td>\n",
       "      <td>142</td>\n",
       "      <td>61</td>\n",
       "      <td>2104</td>\n",
       "      <td>581.03</td>\n",
       "      <td>582.03</td>\n",
       "      <td>0</td>\n",
       "      <td>0</td>\n",
       "      <td>42</td>\n",
       "      <td>Fish</td>\n",
       "      <td>Continental</td>\n",
       "      <td>473</td>\n",
       "      <td>77</td>\n",
       "      <td>TYPE_A</td>\n",
       "      <td>4.5</td>\n",
       "    </tr>\n",
       "    <tr>\n",
       "      <th>456545</th>\n",
       "      <td>1029231</td>\n",
       "      <td>143</td>\n",
       "      <td>61</td>\n",
       "      <td>2104</td>\n",
       "      <td>583.03</td>\n",
       "      <td>581.03</td>\n",
       "      <td>0</td>\n",
       "      <td>0</td>\n",
       "      <td>40</td>\n",
       "      <td>Fish</td>\n",
       "      <td>Continental</td>\n",
       "      <td>473</td>\n",
       "      <td>77</td>\n",
       "      <td>TYPE_A</td>\n",
       "      <td>4.5</td>\n",
       "    </tr>\n",
       "    <tr>\n",
       "      <th>456546</th>\n",
       "      <td>1141147</td>\n",
       "      <td>144</td>\n",
       "      <td>61</td>\n",
       "      <td>2104</td>\n",
       "      <td>582.03</td>\n",
       "      <td>581.03</td>\n",
       "      <td>0</td>\n",
       "      <td>0</td>\n",
       "      <td>53</td>\n",
       "      <td>Fish</td>\n",
       "      <td>Continental</td>\n",
       "      <td>473</td>\n",
       "      <td>77</td>\n",
       "      <td>TYPE_A</td>\n",
       "      <td>4.5</td>\n",
       "    </tr>\n",
       "    <tr>\n",
       "      <th>456547</th>\n",
       "      <td>1443704</td>\n",
       "      <td>145</td>\n",
       "      <td>61</td>\n",
       "      <td>2104</td>\n",
       "      <td>581.03</td>\n",
       "      <td>582.03</td>\n",
       "      <td>0</td>\n",
       "      <td>0</td>\n",
       "      <td>27</td>\n",
       "      <td>Fish</td>\n",
       "      <td>Continental</td>\n",
       "      <td>473</td>\n",
       "      <td>77</td>\n",
       "      <td>TYPE_A</td>\n",
       "      <td>4.5</td>\n",
       "    </tr>\n",
       "  </tbody>\n",
       "</table>\n",
       "</div>"
      ],
      "text/plain": [
       "             id  week  center_id  meal_id  checkout_price  base_price  \\\n",
       "456543  1437396   141         61     2104          583.03      630.53   \n",
       "456544  1060716   142         61     2104          581.03      582.03   \n",
       "456545  1029231   143         61     2104          583.03      581.03   \n",
       "456546  1141147   144         61     2104          582.03      581.03   \n",
       "456547  1443704   145         61     2104          581.03      582.03   \n",
       "\n",
       "        emailer_for_promotion  homepage_featured  num_orders category  \\\n",
       "456543                      0                  1          13     Fish   \n",
       "456544                      0                  0          42     Fish   \n",
       "456545                      0                  0          40     Fish   \n",
       "456546                      0                  0          53     Fish   \n",
       "456547                      0                  0          27     Fish   \n",
       "\n",
       "            cuisine  city_code  region_code center_type  op_area  \n",
       "456543  Continental        473           77      TYPE_A      4.5  \n",
       "456544  Continental        473           77      TYPE_A      4.5  \n",
       "456545  Continental        473           77      TYPE_A      4.5  \n",
       "456546  Continental        473           77      TYPE_A      4.5  \n",
       "456547  Continental        473           77      TYPE_A      4.5  "
      ]
     },
     "execution_count": 6,
     "metadata": {},
     "output_type": "execute_result"
    }
   ],
   "source": [
    "dff.tail()"
   ]
  },
  {
   "cell_type": "markdown",
   "id": "17967c22",
   "metadata": {
    "id": "17967c22"
   },
   "source": [
    "# Data Preprocessing"
   ]
  },
  {
   "cell_type": "code",
   "execution_count": 7,
   "id": "0826bf7c",
   "metadata": {
    "colab": {
     "base_uri": "https://localhost:8080/"
    },
    "id": "0826bf7c",
    "outputId": "5b0f57e6-343b-436a-cd46-23c3a8e83cd4"
   },
   "outputs": [
    {
     "name": "stdout",
     "output_type": "stream",
     "text": [
      "<class 'pandas.core.frame.DataFrame'>\n",
      "Int64Index: 456548 entries, 0 to 456547\n",
      "Data columns (total 15 columns):\n",
      " #   Column                 Non-Null Count   Dtype  \n",
      "---  ------                 --------------   -----  \n",
      " 0   id                     456548 non-null  int64  \n",
      " 1   week                   456548 non-null  int64  \n",
      " 2   center_id              456548 non-null  int64  \n",
      " 3   meal_id                456548 non-null  int64  \n",
      " 4   checkout_price         456548 non-null  float64\n",
      " 5   base_price             456548 non-null  float64\n",
      " 6   emailer_for_promotion  456548 non-null  int64  \n",
      " 7   homepage_featured      456548 non-null  int64  \n",
      " 8   num_orders             456548 non-null  int64  \n",
      " 9   category               456548 non-null  object \n",
      " 10  cuisine                456548 non-null  object \n",
      " 11  city_code              456548 non-null  int64  \n",
      " 12  region_code            456548 non-null  int64  \n",
      " 13  center_type            456548 non-null  object \n",
      " 14  op_area                456548 non-null  float64\n",
      "dtypes: float64(3), int64(9), object(3)\n",
      "memory usage: 55.7+ MB\n"
     ]
    }
   ],
   "source": [
    "dff.info()"
   ]
  },
  {
   "cell_type": "code",
   "execution_count": 8,
   "id": "c21754d6",
   "metadata": {
    "colab": {
     "base_uri": "https://localhost:8080/"
    },
    "id": "c21754d6",
    "outputId": "0b50e605-60cb-4643-c6b8-5abee69e2e21"
   },
   "outputs": [
    {
     "data": {
      "text/plain": [
       "0"
      ]
     },
     "execution_count": 8,
     "metadata": {},
     "output_type": "execute_result"
    }
   ],
   "source": [
    "dff.duplicated().sum()"
   ]
  },
  {
   "cell_type": "code",
   "execution_count": 9,
   "id": "3bfdf19d",
   "metadata": {
    "colab": {
     "base_uri": "https://localhost:8080/",
     "height": 315
    },
    "id": "3bfdf19d",
    "outputId": "43741d3b-acbc-4648-95f8-a7bbfba70681"
   },
   "outputs": [
    {
     "data": {
      "text/html": [
       "<div>\n",
       "<style scoped>\n",
       "    .dataframe tbody tr th:only-of-type {\n",
       "        vertical-align: middle;\n",
       "    }\n",
       "\n",
       "    .dataframe tbody tr th {\n",
       "        vertical-align: top;\n",
       "    }\n",
       "\n",
       "    .dataframe thead th {\n",
       "        text-align: right;\n",
       "    }\n",
       "</style>\n",
       "<table border=\"1\" class=\"dataframe\">\n",
       "  <thead>\n",
       "    <tr style=\"text-align: right;\">\n",
       "      <th></th>\n",
       "      <th>id</th>\n",
       "      <th>week</th>\n",
       "      <th>center_id</th>\n",
       "      <th>meal_id</th>\n",
       "      <th>checkout_price</th>\n",
       "      <th>base_price</th>\n",
       "      <th>emailer_for_promotion</th>\n",
       "      <th>homepage_featured</th>\n",
       "      <th>num_orders</th>\n",
       "      <th>city_code</th>\n",
       "      <th>region_code</th>\n",
       "      <th>op_area</th>\n",
       "    </tr>\n",
       "  </thead>\n",
       "  <tbody>\n",
       "    <tr>\n",
       "      <th>count</th>\n",
       "      <td>4.565480e+05</td>\n",
       "      <td>456548.000000</td>\n",
       "      <td>456548.000000</td>\n",
       "      <td>456548.000000</td>\n",
       "      <td>456548.000000</td>\n",
       "      <td>456548.000000</td>\n",
       "      <td>456548.000000</td>\n",
       "      <td>456548.00000</td>\n",
       "      <td>456548.000000</td>\n",
       "      <td>456548.000000</td>\n",
       "      <td>456548.000000</td>\n",
       "      <td>456548.000000</td>\n",
       "    </tr>\n",
       "    <tr>\n",
       "      <th>mean</th>\n",
       "      <td>1.250096e+06</td>\n",
       "      <td>74.768771</td>\n",
       "      <td>82.105796</td>\n",
       "      <td>2024.337458</td>\n",
       "      <td>332.238933</td>\n",
       "      <td>354.156627</td>\n",
       "      <td>0.081152</td>\n",
       "      <td>0.10920</td>\n",
       "      <td>261.872760</td>\n",
       "      <td>601.553399</td>\n",
       "      <td>56.614566</td>\n",
       "      <td>4.083590</td>\n",
       "    </tr>\n",
       "    <tr>\n",
       "      <th>std</th>\n",
       "      <td>1.443548e+05</td>\n",
       "      <td>41.524956</td>\n",
       "      <td>45.975046</td>\n",
       "      <td>547.420920</td>\n",
       "      <td>152.939723</td>\n",
       "      <td>160.715914</td>\n",
       "      <td>0.273069</td>\n",
       "      <td>0.31189</td>\n",
       "      <td>395.922798</td>\n",
       "      <td>66.195914</td>\n",
       "      <td>17.641306</td>\n",
       "      <td>1.091686</td>\n",
       "    </tr>\n",
       "    <tr>\n",
       "      <th>min</th>\n",
       "      <td>1.000000e+06</td>\n",
       "      <td>1.000000</td>\n",
       "      <td>10.000000</td>\n",
       "      <td>1062.000000</td>\n",
       "      <td>2.970000</td>\n",
       "      <td>55.350000</td>\n",
       "      <td>0.000000</td>\n",
       "      <td>0.00000</td>\n",
       "      <td>13.000000</td>\n",
       "      <td>456.000000</td>\n",
       "      <td>23.000000</td>\n",
       "      <td>0.900000</td>\n",
       "    </tr>\n",
       "    <tr>\n",
       "      <th>25%</th>\n",
       "      <td>1.124999e+06</td>\n",
       "      <td>39.000000</td>\n",
       "      <td>43.000000</td>\n",
       "      <td>1558.000000</td>\n",
       "      <td>228.950000</td>\n",
       "      <td>243.500000</td>\n",
       "      <td>0.000000</td>\n",
       "      <td>0.00000</td>\n",
       "      <td>54.000000</td>\n",
       "      <td>553.000000</td>\n",
       "      <td>34.000000</td>\n",
       "      <td>3.600000</td>\n",
       "    </tr>\n",
       "    <tr>\n",
       "      <th>50%</th>\n",
       "      <td>1.250184e+06</td>\n",
       "      <td>76.000000</td>\n",
       "      <td>76.000000</td>\n",
       "      <td>1993.000000</td>\n",
       "      <td>296.820000</td>\n",
       "      <td>310.460000</td>\n",
       "      <td>0.000000</td>\n",
       "      <td>0.00000</td>\n",
       "      <td>136.000000</td>\n",
       "      <td>596.000000</td>\n",
       "      <td>56.000000</td>\n",
       "      <td>4.000000</td>\n",
       "    </tr>\n",
       "    <tr>\n",
       "      <th>75%</th>\n",
       "      <td>1.375140e+06</td>\n",
       "      <td>111.000000</td>\n",
       "      <td>110.000000</td>\n",
       "      <td>2539.000000</td>\n",
       "      <td>445.230000</td>\n",
       "      <td>458.870000</td>\n",
       "      <td>0.000000</td>\n",
       "      <td>0.00000</td>\n",
       "      <td>324.000000</td>\n",
       "      <td>651.000000</td>\n",
       "      <td>77.000000</td>\n",
       "      <td>4.500000</td>\n",
       "    </tr>\n",
       "    <tr>\n",
       "      <th>max</th>\n",
       "      <td>1.499999e+06</td>\n",
       "      <td>145.000000</td>\n",
       "      <td>186.000000</td>\n",
       "      <td>2956.000000</td>\n",
       "      <td>866.270000</td>\n",
       "      <td>866.270000</td>\n",
       "      <td>1.000000</td>\n",
       "      <td>1.00000</td>\n",
       "      <td>24299.000000</td>\n",
       "      <td>713.000000</td>\n",
       "      <td>93.000000</td>\n",
       "      <td>7.000000</td>\n",
       "    </tr>\n",
       "  </tbody>\n",
       "</table>\n",
       "</div>"
      ],
      "text/plain": [
       "                 id           week      center_id        meal_id  \\\n",
       "count  4.565480e+05  456548.000000  456548.000000  456548.000000   \n",
       "mean   1.250096e+06      74.768771      82.105796    2024.337458   \n",
       "std    1.443548e+05      41.524956      45.975046     547.420920   \n",
       "min    1.000000e+06       1.000000      10.000000    1062.000000   \n",
       "25%    1.124999e+06      39.000000      43.000000    1558.000000   \n",
       "50%    1.250184e+06      76.000000      76.000000    1993.000000   \n",
       "75%    1.375140e+06     111.000000     110.000000    2539.000000   \n",
       "max    1.499999e+06     145.000000     186.000000    2956.000000   \n",
       "\n",
       "       checkout_price     base_price  emailer_for_promotion  \\\n",
       "count   456548.000000  456548.000000          456548.000000   \n",
       "mean       332.238933     354.156627               0.081152   \n",
       "std        152.939723     160.715914               0.273069   \n",
       "min          2.970000      55.350000               0.000000   \n",
       "25%        228.950000     243.500000               0.000000   \n",
       "50%        296.820000     310.460000               0.000000   \n",
       "75%        445.230000     458.870000               0.000000   \n",
       "max        866.270000     866.270000               1.000000   \n",
       "\n",
       "       homepage_featured     num_orders      city_code    region_code  \\\n",
       "count       456548.00000  456548.000000  456548.000000  456548.000000   \n",
       "mean             0.10920     261.872760     601.553399      56.614566   \n",
       "std              0.31189     395.922798      66.195914      17.641306   \n",
       "min              0.00000      13.000000     456.000000      23.000000   \n",
       "25%              0.00000      54.000000     553.000000      34.000000   \n",
       "50%              0.00000     136.000000     596.000000      56.000000   \n",
       "75%              0.00000     324.000000     651.000000      77.000000   \n",
       "max              1.00000   24299.000000     713.000000      93.000000   \n",
       "\n",
       "             op_area  \n",
       "count  456548.000000  \n",
       "mean        4.083590  \n",
       "std         1.091686  \n",
       "min         0.900000  \n",
       "25%         3.600000  \n",
       "50%         4.000000  \n",
       "75%         4.500000  \n",
       "max         7.000000  "
      ]
     },
     "execution_count": 9,
     "metadata": {},
     "output_type": "execute_result"
    }
   ],
   "source": [
    "dff.describe()"
   ]
  },
  {
   "cell_type": "code",
   "execution_count": 10,
   "id": "fc9fb9fe",
   "metadata": {
    "colab": {
     "base_uri": "https://localhost:8080/"
    },
    "id": "fc9fb9fe",
    "outputId": "5b8e5239-68a0-423d-c785-0c7da0396f8e"
   },
   "outputs": [
    {
     "data": {
      "text/plain": [
       "51"
      ]
     },
     "execution_count": 10,
     "metadata": {},
     "output_type": "execute_result"
    }
   ],
   "source": [
    "dff.meal_id.nunique()"
   ]
  },
  {
   "cell_type": "code",
   "execution_count": 11,
   "id": "a79fb6c9",
   "metadata": {
    "colab": {
     "base_uri": "https://localhost:8080/"
    },
    "id": "a79fb6c9",
    "outputId": "bab4cc48-d944-4e6b-f2e6-02b52c79f431"
   },
   "outputs": [
    {
     "data": {
      "text/plain": [
       "4"
      ]
     },
     "execution_count": 11,
     "metadata": {},
     "output_type": "execute_result"
    }
   ],
   "source": [
    "dff.cuisine.nunique()"
   ]
  },
  {
   "cell_type": "code",
   "execution_count": 12,
   "id": "68c7c5cd",
   "metadata": {
    "colab": {
     "base_uri": "https://localhost:8080/"
    },
    "id": "68c7c5cd",
    "outputId": "2df4ea44-d601-4a92-bb3e-748a8786ef1c"
   },
   "outputs": [
    {
     "data": {
      "text/plain": [
       "51"
      ]
     },
     "execution_count": 12,
     "metadata": {},
     "output_type": "execute_result"
    }
   ],
   "source": [
    "dff.city_code.nunique()"
   ]
  },
  {
   "cell_type": "markdown",
   "id": "6560db90",
   "metadata": {
    "id": "6560db90"
   },
   "source": [
    "# EDA"
   ]
  },
  {
   "cell_type": "code",
   "execution_count": 13,
   "id": "0ecfbe99",
   "metadata": {
    "id": "0ecfbe99"
   },
   "outputs": [],
   "source": [
    "from matplotlib import pyplot as plt\n",
    "import seaborn as sns\n",
    "%matplotlib inline"
   ]
  },
  {
   "cell_type": "code",
   "execution_count": 14,
   "id": "b7c1feb3",
   "metadata": {
    "id": "b7c1feb3"
   },
   "outputs": [],
   "source": [
    "# plt.subplots(figsize=(40,15))\n",
    "# sns.barplot(x= 'meal_id', y='num_orders',data=dff)"
   ]
  },
  {
   "cell_type": "code",
   "execution_count": 15,
   "id": "aa92a01f",
   "metadata": {
    "id": "aa92a01f"
   },
   "outputs": [],
   "source": [
    "# plt.subplots(figsize=(40,15))\n",
    "# sns.barplot(x= 'checkout_price', y='num_orders',data=dff)"
   ]
  },
  {
   "cell_type": "code",
   "execution_count": 16,
   "id": "f6b7995d",
   "metadata": {
    "id": "f6b7995d"
   },
   "outputs": [],
   "source": [
    "# sns.barplot(x= 'emailer_for_promotion', y='num_orders',data=dff)"
   ]
  },
  {
   "cell_type": "code",
   "execution_count": 17,
   "id": "26f75f68",
   "metadata": {
    "id": "26f75f68"
   },
   "outputs": [],
   "source": [
    "# sns.barplot(x= 'center_type', y='num_orders',data=dff)"
   ]
  },
  {
   "cell_type": "code",
   "execution_count": 18,
   "id": "01a00dd7",
   "metadata": {
    "id": "01a00dd7"
   },
   "outputs": [
    {
     "data": {
      "text/plain": [
       "<AxesSubplot:ylabel='Density'>"
      ]
     },
     "execution_count": 18,
     "metadata": {},
     "output_type": "execute_result"
    },
    {
     "data": {
      "image/png": "[encoded data removed]",
      "text/plain": [
       "<Figure size 432x288 with 1 Axes>"
      ]
     },
     "metadata": {
      "needs_background": "light"
     },
     "output_type": "display_data"
    }
   ],
   "source": [
    "sns.distplot(x=dff['num_orders'])"
   ]
  },
  {
   "cell_type": "code",
   "execution_count": 19,
   "id": "f9088600",
   "metadata": {
    "id": "f9088600"
   },
   "outputs": [],
   "source": [
    "# plt.subplots(figsize=(15,7))\n",
    "# plt.scatter(df['center_id'],df['num_orders'])"
   ]
  },
  {
   "cell_type": "code",
   "execution_count": 20,
   "id": "f7749bd6",
   "metadata": {
    "id": "f7749bd6"
   },
   "outputs": [],
   "source": [
    "# plt.subplots(figsize=(15,7))\n",
    "# plt.scatter(df['center_id'],df['base_price'])"
   ]
  },
  {
   "cell_type": "markdown",
   "id": "147e7689",
   "metadata": {
    "id": "147e7689"
   },
   "source": [
    "# Outliers Treatment"
   ]
  },
  {
   "cell_type": "code",
   "execution_count": 21,
   "id": "b0ee286e",
   "metadata": {
    "colab": {
     "base_uri": "https://localhost:8080/",
     "height": 521
    },
    "id": "b0ee286e",
    "outputId": "a33f871a-d7a2-484a-fe2c-75fd5cbb97ef"
   },
   "outputs": [
    {
     "data": {
      "text/plain": [
       "<AxesSubplot:xlabel='num_orders'>"
      ]
     },
     "execution_count": 21,
     "metadata": {},
     "output_type": "execute_result"
    },
    {
     "data": {
      "image/png": "[encoded data removed]",
      "text/plain": [
       "<Figure size 2520x1080 with 1 Axes>"
      ]
     },
     "metadata": {
      "needs_background": "light"
     },
     "output_type": "display_data"
    }
   ],
   "source": [
    "plt.subplots(figsize=(35,15))\n",
    "sns.boxplot(dff['num_orders'])"
   ]
  },
  {
   "cell_type": "code",
   "execution_count": 22,
   "id": "bc32eab2",
   "metadata": {
    "colab": {
     "base_uri": "https://localhost:8080/"
    },
    "id": "bc32eab2",
    "outputId": "57e13755-a930-4059-dcbe-d93904d3a8b6"
   },
   "outputs": [
    {
     "data": {
      "text/plain": [
       "(54.0, 324.0)"
      ]
     },
     "execution_count": 22,
     "metadata": {},
     "output_type": "execute_result"
    }
   ],
   "source": [
    "q1=dff.num_orders.quantile(0.25)\n",
    "q3=dff.num_orders.quantile(0.75)\n",
    "q1,q3"
   ]
  },
  {
   "cell_type": "code",
   "execution_count": 23,
   "id": "0451bd8a",
   "metadata": {
    "colab": {
     "base_uri": "https://localhost:8080/"
    },
    "id": "0451bd8a",
    "outputId": "f84dda05-c5e9-498d-d1a8-7ea4985a06b4"
   },
   "outputs": [
    {
     "data": {
      "text/plain": [
       "270.0"
      ]
     },
     "execution_count": 23,
     "metadata": {},
     "output_type": "execute_result"
    }
   ],
   "source": [
    "IQR=q3-q1\n",
    "IQR"
   ]
  },
  {
   "cell_type": "code",
   "execution_count": 24,
   "id": "030330f3",
   "metadata": {
    "colab": {
     "base_uri": "https://localhost:8080/"
    },
    "id": "030330f3",
    "outputId": "3e89a27c-fac9-4106-9476-db186c8e1532"
   },
   "outputs": [
    {
     "data": {
      "text/plain": [
       "(-756.0, 1134.0)"
      ]
     },
     "execution_count": 24,
     "metadata": {},
     "output_type": "execute_result"
    }
   ],
   "source": [
    "lower_bound=q1-3*IQR\n",
    "upper_bound=q3+3*IQR\n",
    "lower_bound,upper_bound"
   ]
  },
  {
   "cell_type": "code",
   "execution_count": 25,
   "id": "2a12d582",
   "metadata": {
    "id": "2a12d582"
   },
   "outputs": [],
   "source": [
    "index = dff[(dff['num_orders'] >=6000)].index\n",
    "dff.drop(index, inplace=True)\n",
    "           "
   ]
  },
  {
   "cell_type": "code",
   "execution_count": 26,
   "id": "9b433e26",
   "metadata": {
    "colab": {
     "base_uri": "https://localhost:8080/"
    },
    "id": "9b433e26",
    "outputId": "e1367072-5843-4549-de44-06b8d6758fb8"
   },
   "outputs": [
    {
     "data": {
      "text/plain": [
       "(456394, 15)"
      ]
     },
     "execution_count": 26,
     "metadata": {},
     "output_type": "execute_result"
    }
   ],
   "source": [
    "dff.shape"
   ]
  },
  {
   "cell_type": "markdown",
   "id": "82a37af4",
   "metadata": {
    "id": "82a37af4"
   },
   "source": [
    "# Train-Test Split"
   ]
  },
  {
   "cell_type": "code",
   "execution_count": 27,
   "id": "ecb6abaa",
   "metadata": {
    "colab": {
     "base_uri": "https://localhost:8080/"
    },
    "id": "ecb6abaa",
    "outputId": "fb27444a-28e3-439d-d283-16e9533d7a23"
   },
   "outputs": [
    {
     "data": {
      "text/plain": [
       "((410754, 14), (45640, 14))"
      ]
     },
     "execution_count": 27,
     "metadata": {},
     "output_type": "execute_result"
    }
   ],
   "source": [
    "from sklearn.model_selection import train_test_split\n",
    "\n",
    "x = dff.drop('num_orders', axis=1)\n",
    "y = dff['num_orders']\n",
    "\n",
    "x_train, x_test, y_train, y_test = train_test_split(x, y, test_size=0.1)\n",
    "x_train.shape, x_test.shape"
   ]
  },
  {
   "cell_type": "markdown",
   "id": "4469463e",
   "metadata": {
    "id": "4469463e"
   },
   "source": [
    "# Feature Engg. & Selection"
   ]
  },
  {
   "cell_type": "code",
   "execution_count": 28,
   "id": "5f0c9fd0",
   "metadata": {
    "colab": {
     "base_uri": "https://localhost:8080/",
     "height": 223
    },
    "id": "5f0c9fd0",
    "outputId": "c5c093ff-b482-4386-bdbf-aa4fe77b667e"
   },
   "outputs": [
    {
     "data": {
      "text/html": [
       "<div>\n",
       "<style scoped>\n",
       "    .dataframe tbody tr th:only-of-type {\n",
       "        vertical-align: middle;\n",
       "    }\n",
       "\n",
       "    .dataframe tbody tr th {\n",
       "        vertical-align: top;\n",
       "    }\n",
       "\n",
       "    .dataframe thead th {\n",
       "        text-align: right;\n",
       "    }\n",
       "</style>\n",
       "<table border=\"1\" class=\"dataframe\">\n",
       "  <thead>\n",
       "    <tr style=\"text-align: right;\">\n",
       "      <th></th>\n",
       "      <th>id</th>\n",
       "      <th>week</th>\n",
       "      <th>center_id</th>\n",
       "      <th>meal_id</th>\n",
       "      <th>checkout_price</th>\n",
       "      <th>base_price</th>\n",
       "      <th>emailer_for_promotion</th>\n",
       "      <th>homepage_featured</th>\n",
       "      <th>category</th>\n",
       "      <th>cuisine</th>\n",
       "      <th>city_code</th>\n",
       "      <th>region_code</th>\n",
       "      <th>center_type</th>\n",
       "      <th>op_area</th>\n",
       "    </tr>\n",
       "  </thead>\n",
       "  <tbody>\n",
       "    <tr>\n",
       "      <th>1324</th>\n",
       "      <td>1093119</td>\n",
       "      <td>104</td>\n",
       "      <td>55</td>\n",
       "      <td>1207</td>\n",
       "      <td>324.98</td>\n",
       "      <td>323.01</td>\n",
       "      <td>0</td>\n",
       "      <td>1</td>\n",
       "      <td>Beverages</td>\n",
       "      <td>Continental</td>\n",
       "      <td>647</td>\n",
       "      <td>56</td>\n",
       "      <td>TYPE_C</td>\n",
       "      <td>2.0</td>\n",
       "    </tr>\n",
       "    <tr>\n",
       "      <th>26992</th>\n",
       "      <td>1009417</td>\n",
       "      <td>23</td>\n",
       "      <td>32</td>\n",
       "      <td>2867</td>\n",
       "      <td>658.63</td>\n",
       "      <td>659.63</td>\n",
       "      <td>0</td>\n",
       "      <td>0</td>\n",
       "      <td>Seafood</td>\n",
       "      <td>Continental</td>\n",
       "      <td>526</td>\n",
       "      <td>34</td>\n",
       "      <td>TYPE_A</td>\n",
       "      <td>3.8</td>\n",
       "    </tr>\n",
       "    <tr>\n",
       "      <th>361445</th>\n",
       "      <td>1466848</td>\n",
       "      <td>64</td>\n",
       "      <td>143</td>\n",
       "      <td>2826</td>\n",
       "      <td>269.66</td>\n",
       "      <td>329.86</td>\n",
       "      <td>1</td>\n",
       "      <td>0</td>\n",
       "      <td>Sandwich</td>\n",
       "      <td>Italian</td>\n",
       "      <td>562</td>\n",
       "      <td>77</td>\n",
       "      <td>TYPE_B</td>\n",
       "      <td>3.8</td>\n",
       "    </tr>\n",
       "    <tr>\n",
       "      <th>207221</th>\n",
       "      <td>1325427</td>\n",
       "      <td>20</td>\n",
       "      <td>64</td>\n",
       "      <td>2322</td>\n",
       "      <td>307.49</td>\n",
       "      <td>309.49</td>\n",
       "      <td>0</td>\n",
       "      <td>0</td>\n",
       "      <td>Beverages</td>\n",
       "      <td>Continental</td>\n",
       "      <td>553</td>\n",
       "      <td>77</td>\n",
       "      <td>TYPE_A</td>\n",
       "      <td>4.4</td>\n",
       "    </tr>\n",
       "    <tr>\n",
       "      <th>338520</th>\n",
       "      <td>1422659</td>\n",
       "      <td>19</td>\n",
       "      <td>30</td>\n",
       "      <td>1878</td>\n",
       "      <td>280.33</td>\n",
       "      <td>281.33</td>\n",
       "      <td>0</td>\n",
       "      <td>0</td>\n",
       "      <td>Starters</td>\n",
       "      <td>Thai</td>\n",
       "      <td>604</td>\n",
       "      <td>56</td>\n",
       "      <td>TYPE_A</td>\n",
       "      <td>3.5</td>\n",
       "    </tr>\n",
       "  </tbody>\n",
       "</table>\n",
       "</div>"
      ],
      "text/plain": [
       "             id  week  center_id  meal_id  checkout_price  base_price  \\\n",
       "1324    1093119   104         55     1207          324.98      323.01   \n",
       "26992   1009417    23         32     2867          658.63      659.63   \n",
       "361445  1466848    64        143     2826          269.66      329.86   \n",
       "207221  1325427    20         64     2322          307.49      309.49   \n",
       "338520  1422659    19         30     1878          280.33      281.33   \n",
       "\n",
       "        emailer_for_promotion  homepage_featured   category      cuisine  \\\n",
       "1324                        0                  1  Beverages  Continental   \n",
       "26992                       0                  0    Seafood  Continental   \n",
       "361445                      1                  0   Sandwich      Italian   \n",
       "207221                      0                  0  Beverages  Continental   \n",
       "338520                      0                  0   Starters         Thai   \n",
       "\n",
       "        city_code  region_code center_type  op_area  \n",
       "1324          647           56      TYPE_C      2.0  \n",
       "26992         526           34      TYPE_A      3.8  \n",
       "361445        562           77      TYPE_B      3.8  \n",
       "207221        553           77      TYPE_A      4.4  \n",
       "338520        604           56      TYPE_A      3.5  "
      ]
     },
     "execution_count": 28,
     "metadata": {},
     "output_type": "execute_result"
    }
   ],
   "source": [
    "x_train.head()"
   ]
  },
  {
   "cell_type": "code",
   "execution_count": 29,
   "id": "89a43d2d",
   "metadata": {
    "id": "89a43d2d"
   },
   "outputs": [],
   "source": [
    "from sklearn.preprocessing import LabelEncoder\n",
    "cuis_d = pd.get_dummies(x_train.cuisine, prefix='cuisine')\n",
    "x_train = pd.concat([x_train,cuis_d],axis=1)\n",
    "\n",
    "cat_d = pd.get_dummies(x_train.category, prefix='category')\n",
    "x_train = pd.concat([x_train,cat_d],axis=1)\n",
    "\n",
    "cent_d = pd.get_dummies(x_train.center_type, prefix='center_type')\n",
    "x_train = pd.concat([x_train,cent_d],axis=1)\n",
    "\n",
    "meal_d = pd.get_dummies(x_train.meal_id, prefix='meal_id')\n",
    "x_train = pd.concat([x_train,meal_d],axis=1)\n",
    "\n",
    "op_area_d = pd.get_dummies(x_train.op_area, prefix='op_area')\n",
    "x_train = pd.concat([x_train,op_area_d],axis=1)"
   ]
  },
  {
   "cell_type": "code",
   "execution_count": 30,
   "id": "oZYFsuJASPu6",
   "metadata": {
    "id": "oZYFsuJASPu6"
   },
   "outputs": [],
   "source": [
    "x_train[\"Discount\"]=((x_train[\"base_price\"]-x_train[\"checkout_price\"])/x_train[\"base_price\"])*100\n"
   ]
  },
  {
   "cell_type": "code",
   "execution_count": 31,
   "id": "797bd6db",
   "metadata": {
    "colab": {
     "base_uri": "https://localhost:8080/",
     "height": 596
    },
    "id": "797bd6db",
    "outputId": "ed517fc0-84f6-4e4e-a4b0-767dfce551fa"
   },
   "outputs": [
    {
     "data": {
      "image/png": "[encoded data removed]",
      "text/plain": [
       "<Figure size 1080x720 with 1 Axes>"
      ]
     },
     "metadata": {
      "needs_background": "light"
     },
     "output_type": "display_data"
    }
   ],
   "source": [
    "fig, ax = plt.subplots()\n",
    "fig.set_size_inches(15, 10)\n",
    "# sns.heatmap(x_train.merge(y_train , on = x_train.index ).corr(),cmap='coolwarm',ax=ax,annot=True,linewidths=2)"
   ]
  },
  {
   "cell_type": "code",
   "execution_count": 32,
   "id": "a0df6d8e",
   "metadata": {
    "id": "a0df6d8e"
   },
   "outputs": [],
   "source": [
    "x_train.drop(['week','meal_id','category','cuisine','city_code','region_code','center_type','op_area'],axis=1,inplace=True)"
   ]
  },
  {
   "cell_type": "code",
   "execution_count": 33,
   "id": "0408fccf",
   "metadata": {
    "colab": {
     "base_uri": "https://localhost:8080/",
     "height": 223
    },
    "id": "0408fccf",
    "outputId": "363f5154-8949-4a7c-fc2d-44ae54f2f0a8"
   },
   "outputs": [
    {
     "data": {
      "text/html": [
       "<div>\n",
       "<style scoped>\n",
       "    .dataframe tbody tr th:only-of-type {\n",
       "        vertical-align: middle;\n",
       "    }\n",
       "\n",
       "    .dataframe tbody tr th {\n",
       "        vertical-align: top;\n",
       "    }\n",
       "\n",
       "    .dataframe thead th {\n",
       "        text-align: right;\n",
       "    }\n",
       "</style>\n",
       "<table border=\"1\" class=\"dataframe\">\n",
       "  <thead>\n",
       "    <tr style=\"text-align: right;\">\n",
       "      <th></th>\n",
       "      <th>id</th>\n",
       "      <th>center_id</th>\n",
       "      <th>checkout_price</th>\n",
       "      <th>base_price</th>\n",
       "      <th>emailer_for_promotion</th>\n",
       "      <th>homepage_featured</th>\n",
       "      <th>cuisine_Continental</th>\n",
       "      <th>cuisine_Indian</th>\n",
       "      <th>cuisine_Italian</th>\n",
       "      <th>cuisine_Thai</th>\n",
       "      <th>...</th>\n",
       "      <th>op_area_4.7</th>\n",
       "      <th>op_area_4.8</th>\n",
       "      <th>op_area_5.0</th>\n",
       "      <th>op_area_5.1</th>\n",
       "      <th>op_area_5.3</th>\n",
       "      <th>op_area_5.6</th>\n",
       "      <th>op_area_6.3</th>\n",
       "      <th>op_area_6.7</th>\n",
       "      <th>op_area_7.0</th>\n",
       "      <th>Discount</th>\n",
       "    </tr>\n",
       "  </thead>\n",
       "  <tbody>\n",
       "    <tr>\n",
       "      <th>1324</th>\n",
       "      <td>1093119</td>\n",
       "      <td>55</td>\n",
       "      <td>324.98</td>\n",
       "      <td>323.01</td>\n",
       "      <td>0</td>\n",
       "      <td>1</td>\n",
       "      <td>1</td>\n",
       "      <td>0</td>\n",
       "      <td>0</td>\n",
       "      <td>0</td>\n",
       "      <td>...</td>\n",
       "      <td>0</td>\n",
       "      <td>0</td>\n",
       "      <td>0</td>\n",
       "      <td>0</td>\n",
       "      <td>0</td>\n",
       "      <td>0</td>\n",
       "      <td>0</td>\n",
       "      <td>0</td>\n",
       "      <td>0</td>\n",
       "      <td>-0.609888</td>\n",
       "    </tr>\n",
       "    <tr>\n",
       "      <th>26992</th>\n",
       "      <td>1009417</td>\n",
       "      <td>32</td>\n",
       "      <td>658.63</td>\n",
       "      <td>659.63</td>\n",
       "      <td>0</td>\n",
       "      <td>0</td>\n",
       "      <td>1</td>\n",
       "      <td>0</td>\n",
       "      <td>0</td>\n",
       "      <td>0</td>\n",
       "      <td>...</td>\n",
       "      <td>0</td>\n",
       "      <td>0</td>\n",
       "      <td>0</td>\n",
       "      <td>0</td>\n",
       "      <td>0</td>\n",
       "      <td>0</td>\n",
       "      <td>0</td>\n",
       "      <td>0</td>\n",
       "      <td>0</td>\n",
       "      <td>0.151600</td>\n",
       "    </tr>\n",
       "    <tr>\n",
       "      <th>361445</th>\n",
       "      <td>1466848</td>\n",
       "      <td>143</td>\n",
       "      <td>269.66</td>\n",
       "      <td>329.86</td>\n",
       "      <td>1</td>\n",
       "      <td>0</td>\n",
       "      <td>0</td>\n",
       "      <td>0</td>\n",
       "      <td>1</td>\n",
       "      <td>0</td>\n",
       "      <td>...</td>\n",
       "      <td>0</td>\n",
       "      <td>0</td>\n",
       "      <td>0</td>\n",
       "      <td>0</td>\n",
       "      <td>0</td>\n",
       "      <td>0</td>\n",
       "      <td>0</td>\n",
       "      <td>0</td>\n",
       "      <td>0</td>\n",
       "      <td>18.250167</td>\n",
       "    </tr>\n",
       "    <tr>\n",
       "      <th>207221</th>\n",
       "      <td>1325427</td>\n",
       "      <td>64</td>\n",
       "      <td>307.49</td>\n",
       "      <td>309.49</td>\n",
       "      <td>0</td>\n",
       "      <td>0</td>\n",
       "      <td>1</td>\n",
       "      <td>0</td>\n",
       "      <td>0</td>\n",
       "      <td>0</td>\n",
       "      <td>...</td>\n",
       "      <td>0</td>\n",
       "      <td>0</td>\n",
       "      <td>0</td>\n",
       "      <td>0</td>\n",
       "      <td>0</td>\n",
       "      <td>0</td>\n",
       "      <td>0</td>\n",
       "      <td>0</td>\n",
       "      <td>0</td>\n",
       "      <td>0.646224</td>\n",
       "    </tr>\n",
       "    <tr>\n",
       "      <th>338520</th>\n",
       "      <td>1422659</td>\n",
       "      <td>30</td>\n",
       "      <td>280.33</td>\n",
       "      <td>281.33</td>\n",
       "      <td>0</td>\n",
       "      <td>0</td>\n",
       "      <td>0</td>\n",
       "      <td>0</td>\n",
       "      <td>0</td>\n",
       "      <td>1</td>\n",
       "      <td>...</td>\n",
       "      <td>0</td>\n",
       "      <td>0</td>\n",
       "      <td>0</td>\n",
       "      <td>0</td>\n",
       "      <td>0</td>\n",
       "      <td>0</td>\n",
       "      <td>0</td>\n",
       "      <td>0</td>\n",
       "      <td>0</td>\n",
       "      <td>0.355454</td>\n",
       "    </tr>\n",
       "  </tbody>\n",
       "</table>\n",
       "<p>5 rows × 109 columns</p>\n",
       "</div>"
      ],
      "text/plain": [
       "             id  center_id  checkout_price  base_price  emailer_for_promotion  \\\n",
       "1324    1093119         55          324.98      323.01                      0   \n",
       "26992   1009417         32          658.63      659.63                      0   \n",
       "361445  1466848        143          269.66      329.86                      1   \n",
       "207221  1325427         64          307.49      309.49                      0   \n",
       "338520  1422659         30          280.33      281.33                      0   \n",
       "\n",
       "        homepage_featured  cuisine_Continental  cuisine_Indian  \\\n",
       "1324                    1                    1               0   \n",
       "26992                   0                    1               0   \n",
       "361445                  0                    0               0   \n",
       "207221                  0                    1               0   \n",
       "338520                  0                    0               0   \n",
       "\n",
       "        cuisine_Italian  cuisine_Thai  ...  op_area_4.7  op_area_4.8  \\\n",
       "1324                  0             0  ...            0            0   \n",
       "26992                 0             0  ...            0            0   \n",
       "361445                1             0  ...            0            0   \n",
       "207221                0             0  ...            0            0   \n",
       "338520                0             1  ...            0            0   \n",
       "\n",
       "        op_area_5.0  op_area_5.1  op_area_5.3  op_area_5.6  op_area_6.3  \\\n",
       "1324              0            0            0            0            0   \n",
       "26992             0            0            0            0            0   \n",
       "361445            0            0            0            0            0   \n",
       "207221            0            0            0            0            0   \n",
       "338520            0            0            0            0            0   \n",
       "\n",
       "        op_area_6.7  op_area_7.0   Discount  \n",
       "1324              0            0  -0.609888  \n",
       "26992             0            0   0.151600  \n",
       "361445            0            0  18.250167  \n",
       "207221            0            0   0.646224  \n",
       "338520            0            0   0.355454  \n",
       "\n",
       "[5 rows x 109 columns]"
      ]
     },
     "execution_count": 33,
     "metadata": {},
     "output_type": "execute_result"
    }
   ],
   "source": [
    "x_train.head()"
   ]
  },
  {
   "cell_type": "code",
   "execution_count": 34,
   "id": "mcGp06m_LH7v",
   "metadata": {
    "id": "mcGp06m_LH7v"
   },
   "outputs": [],
   "source": [
    "cuis_d = pd.get_dummies(x_test.cuisine, prefix='cuisine')\n",
    "x_test = pd.concat([x_test,cuis_d],axis=1)\n",
    "\n",
    "cat_d = pd.get_dummies(x_test.category, prefix='category')\n",
    "x_test = pd.concat([x_test,cat_d],axis=1)\n",
    "\n",
    "cent_d = pd.get_dummies(x_test.center_type, prefix='center_type')\n",
    "x_test = pd.concat([x_test,cent_d],axis=1)\n",
    "\n",
    "meal_d = pd.get_dummies(x_test.meal_id, prefix='meal_id')\n",
    "x_test = pd.concat([x_test,meal_d],axis=1)\n",
    "\n",
    "op_area_d = pd.get_dummies(x_test.op_area, prefix='op_area')\n",
    "x_test = pd.concat([x_test,op_area_d],axis=1)"
   ]
  },
  {
   "cell_type": "code",
   "execution_count": 35,
   "id": "6Gtj-PudR8VW",
   "metadata": {
    "id": "6Gtj-PudR8VW"
   },
   "outputs": [],
   "source": [
    "x_test[\"Discount\"]=((x_test[\"base_price\"]-x_test[\"checkout_price\"])/x_test[\"base_price\"])*100"
   ]
  },
  {
   "cell_type": "code",
   "execution_count": 36,
   "id": "25c2d32d",
   "metadata": {
    "colab": {
     "base_uri": "https://localhost:8080/",
     "height": 596
    },
    "id": "25c2d32d",
    "outputId": "594ef83b-80fc-417d-c62c-9863cdf6e732"
   },
   "outputs": [
    {
     "data": {
      "image/png": "[encoded data removed]",
      "text/plain": [
       "<Figure size 1080x720 with 1 Axes>"
      ]
     },
     "metadata": {
      "needs_background": "light"
     },
     "output_type": "display_data"
    }
   ],
   "source": [
    "fig, ax = plt.subplots()\n",
    "fig.set_size_inches(15, 10)\n",
    "# sns.heatmap(x_train.merge(y_train , on = x_train.index ).corr(),cmap='coolwarm',ax=ax,annot=True,linewidths=2)"
   ]
  },
  {
   "cell_type": "code",
   "execution_count": 37,
   "id": "09e448f3",
   "metadata": {
    "colab": {
     "base_uri": "https://localhost:8080/",
     "height": 223
    },
    "id": "09e448f3",
    "outputId": "2b05fe10-3b10-43f3-9501-df7a0c56bdf0"
   },
   "outputs": [
    {
     "data": {
      "text/html": [
       "<div>\n",
       "<style scoped>\n",
       "    .dataframe tbody tr th:only-of-type {\n",
       "        vertical-align: middle;\n",
       "    }\n",
       "\n",
       "    .dataframe tbody tr th {\n",
       "        vertical-align: top;\n",
       "    }\n",
       "\n",
       "    .dataframe thead th {\n",
       "        text-align: right;\n",
       "    }\n",
       "</style>\n",
       "<table border=\"1\" class=\"dataframe\">\n",
       "  <thead>\n",
       "    <tr style=\"text-align: right;\">\n",
       "      <th></th>\n",
       "      <th>id</th>\n",
       "      <th>week</th>\n",
       "      <th>center_id</th>\n",
       "      <th>meal_id</th>\n",
       "      <th>checkout_price</th>\n",
       "      <th>base_price</th>\n",
       "      <th>emailer_for_promotion</th>\n",
       "      <th>homepage_featured</th>\n",
       "      <th>category</th>\n",
       "      <th>cuisine</th>\n",
       "      <th>...</th>\n",
       "      <th>op_area_4.7</th>\n",
       "      <th>op_area_4.8</th>\n",
       "      <th>op_area_5.0</th>\n",
       "      <th>op_area_5.1</th>\n",
       "      <th>op_area_5.3</th>\n",
       "      <th>op_area_5.6</th>\n",
       "      <th>op_area_6.3</th>\n",
       "      <th>op_area_6.7</th>\n",
       "      <th>op_area_7.0</th>\n",
       "      <th>Discount</th>\n",
       "    </tr>\n",
       "  </thead>\n",
       "  <tbody>\n",
       "    <tr>\n",
       "      <th>169756</th>\n",
       "      <td>1147837</td>\n",
       "      <td>18</td>\n",
       "      <td>36</td>\n",
       "      <td>1878</td>\n",
       "      <td>280.33</td>\n",
       "      <td>281.33</td>\n",
       "      <td>0</td>\n",
       "      <td>0</td>\n",
       "      <td>Starters</td>\n",
       "      <td>Thai</td>\n",
       "      <td>...</td>\n",
       "      <td>0</td>\n",
       "      <td>0</td>\n",
       "      <td>0</td>\n",
       "      <td>0</td>\n",
       "      <td>0</td>\n",
       "      <td>0</td>\n",
       "      <td>0</td>\n",
       "      <td>0</td>\n",
       "      <td>0</td>\n",
       "      <td>0.355454</td>\n",
       "    </tr>\n",
       "    <tr>\n",
       "      <th>195136</th>\n",
       "      <td>1000904</td>\n",
       "      <td>72</td>\n",
       "      <td>157</td>\n",
       "      <td>1778</td>\n",
       "      <td>164.90</td>\n",
       "      <td>164.90</td>\n",
       "      <td>0</td>\n",
       "      <td>0</td>\n",
       "      <td>Beverages</td>\n",
       "      <td>Italian</td>\n",
       "      <td>...</td>\n",
       "      <td>0</td>\n",
       "      <td>0</td>\n",
       "      <td>0</td>\n",
       "      <td>0</td>\n",
       "      <td>0</td>\n",
       "      <td>0</td>\n",
       "      <td>0</td>\n",
       "      <td>0</td>\n",
       "      <td>0</td>\n",
       "      <td>0.000000</td>\n",
       "    </tr>\n",
       "    <tr>\n",
       "      <th>335995</th>\n",
       "      <td>1117241</td>\n",
       "      <td>100</td>\n",
       "      <td>30</td>\n",
       "      <td>2640</td>\n",
       "      <td>291.03</td>\n",
       "      <td>291.03</td>\n",
       "      <td>0</td>\n",
       "      <td>0</td>\n",
       "      <td>Starters</td>\n",
       "      <td>Thai</td>\n",
       "      <td>...</td>\n",
       "      <td>0</td>\n",
       "      <td>0</td>\n",
       "      <td>0</td>\n",
       "      <td>0</td>\n",
       "      <td>0</td>\n",
       "      <td>0</td>\n",
       "      <td>0</td>\n",
       "      <td>0</td>\n",
       "      <td>0</td>\n",
       "      <td>0.000000</td>\n",
       "    </tr>\n",
       "    <tr>\n",
       "      <th>447608</th>\n",
       "      <td>1192766</td>\n",
       "      <td>104</td>\n",
       "      <td>51</td>\n",
       "      <td>1962</td>\n",
       "      <td>680.03</td>\n",
       "      <td>680.03</td>\n",
       "      <td>0</td>\n",
       "      <td>0</td>\n",
       "      <td>Pizza</td>\n",
       "      <td>Continental</td>\n",
       "      <td>...</td>\n",
       "      <td>0</td>\n",
       "      <td>0</td>\n",
       "      <td>0</td>\n",
       "      <td>0</td>\n",
       "      <td>0</td>\n",
       "      <td>0</td>\n",
       "      <td>0</td>\n",
       "      <td>0</td>\n",
       "      <td>1</td>\n",
       "      <td>0.000000</td>\n",
       "    </tr>\n",
       "    <tr>\n",
       "      <th>400781</th>\n",
       "      <td>1044242</td>\n",
       "      <td>74</td>\n",
       "      <td>65</td>\n",
       "      <td>2704</td>\n",
       "      <td>247.35</td>\n",
       "      <td>291.03</td>\n",
       "      <td>0</td>\n",
       "      <td>0</td>\n",
       "      <td>Other Snacks</td>\n",
       "      <td>Thai</td>\n",
       "      <td>...</td>\n",
       "      <td>0</td>\n",
       "      <td>1</td>\n",
       "      <td>0</td>\n",
       "      <td>0</td>\n",
       "      <td>0</td>\n",
       "      <td>0</td>\n",
       "      <td>0</td>\n",
       "      <td>0</td>\n",
       "      <td>0</td>\n",
       "      <td>15.008762</td>\n",
       "    </tr>\n",
       "  </tbody>\n",
       "</table>\n",
       "<p>5 rows × 117 columns</p>\n",
       "</div>"
      ],
      "text/plain": [
       "             id  week  center_id  meal_id  checkout_price  base_price  \\\n",
       "169756  1147837    18         36     1878          280.33      281.33   \n",
       "195136  1000904    72        157     1778          164.90      164.90   \n",
       "335995  1117241   100         30     2640          291.03      291.03   \n",
       "447608  1192766   104         51     1962          680.03      680.03   \n",
       "400781  1044242    74         65     2704          247.35      291.03   \n",
       "\n",
       "        emailer_for_promotion  homepage_featured      category      cuisine  \\\n",
       "169756                      0                  0      Starters         Thai   \n",
       "195136                      0                  0     Beverages      Italian   \n",
       "335995                      0                  0      Starters         Thai   \n",
       "447608                      0                  0         Pizza  Continental   \n",
       "400781                      0                  0  Other Snacks         Thai   \n",
       "\n",
       "        ...  op_area_4.7  op_area_4.8 op_area_5.0  op_area_5.1  op_area_5.3  \\\n",
       "169756  ...            0            0           0            0            0   \n",
       "195136  ...            0            0           0            0            0   \n",
       "335995  ...            0            0           0            0            0   \n",
       "447608  ...            0            0           0            0            0   \n",
       "400781  ...            0            1           0            0            0   \n",
       "\n",
       "        op_area_5.6  op_area_6.3  op_area_6.7  op_area_7.0   Discount  \n",
       "169756            0            0            0            0   0.355454  \n",
       "195136            0            0            0            0   0.000000  \n",
       "335995            0            0            0            0   0.000000  \n",
       "447608            0            0            0            1   0.000000  \n",
       "400781            0            0            0            0  15.008762  \n",
       "\n",
       "[5 rows x 117 columns]"
      ]
     },
     "execution_count": 37,
     "metadata": {},
     "output_type": "execute_result"
    }
   ],
   "source": [
    "x_test.head()"
   ]
  },
  {
   "cell_type": "code",
   "execution_count": 38,
   "id": "33643888",
   "metadata": {
    "id": "33643888"
   },
   "outputs": [],
   "source": [
    "x_test.drop(['week','meal_id','category','cuisine','city_code','region_code','center_type','op_area'],axis=1,inplace=True)"
   ]
  },
  {
   "cell_type": "code",
   "execution_count": 39,
   "id": "34ee85b7",
   "metadata": {
    "colab": {
     "base_uri": "https://localhost:8080/"
    },
    "id": "34ee85b7",
    "outputId": "fcc4f5fe-d8ab-4016-8880-4accd9468c6e"
   },
   "outputs": [
    {
     "data": {
      "text/plain": [
       "(45640, 109)"
      ]
     },
     "execution_count": 39,
     "metadata": {},
     "output_type": "execute_result"
    }
   ],
   "source": [
    "x_test.shape"
   ]
  },
  {
   "cell_type": "code",
   "execution_count": 40,
   "id": "c3b43ac8",
   "metadata": {
    "colab": {
     "base_uri": "https://localhost:8080/"
    },
    "id": "c3b43ac8",
    "outputId": "cb6c6031-b655-431e-8a93-5c07b73afd65"
   },
   "outputs": [
    {
     "data": {
      "text/plain": [
       "(410754, 109)"
      ]
     },
     "execution_count": 40,
     "metadata": {},
     "output_type": "execute_result"
    }
   ],
   "source": [
    "x_train.shape"
   ]
  },
  {
   "cell_type": "code",
   "execution_count": 56,
   "id": "daac84d1",
   "metadata": {
    "id": "daac84d1"
   },
   "outputs": [
    {
     "data": {
      "text/plain": [
       "RandomForestRegressor(max_features=70, n_estimators=120)"
      ]
     },
     "execution_count": 56,
     "metadata": {},
     "output_type": "execute_result"
    }
   ],
   "source": [
    "from sklearn.model_selection import train_test_split\n",
    "from sklearn.ensemble import RandomForestRegressor\n",
    "from sklearn.metrics import r2_score,mean_squared_error\n",
    "rfr = RandomForestRegressor(n_estimators=120,max_features=70)\n",
    "rfr.fit(x_train,y_train)\n"
   ]
  },
  {
   "cell_type": "code",
   "execution_count": 57,
   "id": "39a24626",
   "metadata": {
    "id": "39a24626"
   },
   "outputs": [
    {
     "data": {
      "text/plain": [
       "array([ 158.75      ,   94.75833333,  266.95      , ...,  189.71666667,\n",
       "         95.8       , 1017.1       ])"
      ]
     },
     "execution_count": 57,
     "metadata": {},
     "output_type": "execute_result"
    }
   ],
   "source": [
    "y_pred = rfr.predict(x_test)\n",
    "y_pred"
   ]
  },
  {
   "cell_type": "code",
   "execution_count": 58,
   "id": "8e1a8bc6",
   "metadata": {
    "id": "8e1a8bc6"
   },
   "outputs": [
    {
     "data": {
      "text/plain": [
       "0.5225061320500796"
      ]
     },
     "execution_count": 58,
     "metadata": {},
     "output_type": "execute_result"
    }
   ],
   "source": [
    "from sklearn.metrics import mean_squared_log_error\n",
    "np.sqrt(mean_squared_log_error( y_test, y_pred ))"
   ]
  },
  {
   "cell_type": "code",
   "execution_count": null,
   "id": "4650ff90",
   "metadata": {},
   "outputs": [],
   "source": []
  },
  {
   "cell_type": "code",
   "execution_count": null,
   "id": "3a563d04",
   "metadata": {},
   "outputs": [],
   "source": []
  },
  {
   "cell_type": "code",
   "execution_count": null,
   "id": "cc748cbe",
   "metadata": {},
   "outputs": [],
   "source": []
  },
  {
   "cell_type": "code",
   "execution_count": 44,
   "id": "doK_F6-MW7UL",
   "metadata": {
    "id": "doK_F6-MW7UL"
   },
   "outputs": [
    {
     "data": {
      "text/html": [
       "<div>\n",
       "<style scoped>\n",
       "    .dataframe tbody tr th:only-of-type {\n",
       "        vertical-align: middle;\n",
       "    }\n",
       "\n",
       "    .dataframe tbody tr th {\n",
       "        vertical-align: top;\n",
       "    }\n",
       "\n",
       "    .dataframe thead th {\n",
       "        text-align: right;\n",
       "    }\n",
       "</style>\n",
       "<table border=\"1\" class=\"dataframe\">\n",
       "  <thead>\n",
       "    <tr style=\"text-align: right;\">\n",
       "      <th></th>\n",
       "      <th>id</th>\n",
       "      <th>week</th>\n",
       "      <th>center_id</th>\n",
       "      <th>meal_id</th>\n",
       "      <th>checkout_price</th>\n",
       "      <th>base_price</th>\n",
       "      <th>emailer_for_promotion</th>\n",
       "      <th>homepage_featured</th>\n",
       "      <th>category</th>\n",
       "      <th>cuisine</th>\n",
       "      <th>city_code</th>\n",
       "      <th>region_code</th>\n",
       "      <th>center_type</th>\n",
       "      <th>op_area</th>\n",
       "    </tr>\n",
       "  </thead>\n",
       "  <tbody>\n",
       "    <tr>\n",
       "      <th>0</th>\n",
       "      <td>1028232</td>\n",
       "      <td>146</td>\n",
       "      <td>55</td>\n",
       "      <td>1885</td>\n",
       "      <td>158.11</td>\n",
       "      <td>159.11</td>\n",
       "      <td>0</td>\n",
       "      <td>0</td>\n",
       "      <td>Beverages</td>\n",
       "      <td>Thai</td>\n",
       "      <td>647</td>\n",
       "      <td>56</td>\n",
       "      <td>TYPE_C</td>\n",
       "      <td>2.0</td>\n",
       "    </tr>\n",
       "    <tr>\n",
       "      <th>1</th>\n",
       "      <td>1262649</td>\n",
       "      <td>147</td>\n",
       "      <td>55</td>\n",
       "      <td>1885</td>\n",
       "      <td>159.11</td>\n",
       "      <td>159.11</td>\n",
       "      <td>0</td>\n",
       "      <td>0</td>\n",
       "      <td>Beverages</td>\n",
       "      <td>Thai</td>\n",
       "      <td>647</td>\n",
       "      <td>56</td>\n",
       "      <td>TYPE_C</td>\n",
       "      <td>2.0</td>\n",
       "    </tr>\n",
       "    <tr>\n",
       "      <th>2</th>\n",
       "      <td>1453211</td>\n",
       "      <td>149</td>\n",
       "      <td>55</td>\n",
       "      <td>1885</td>\n",
       "      <td>157.14</td>\n",
       "      <td>158.14</td>\n",
       "      <td>0</td>\n",
       "      <td>0</td>\n",
       "      <td>Beverages</td>\n",
       "      <td>Thai</td>\n",
       "      <td>647</td>\n",
       "      <td>56</td>\n",
       "      <td>TYPE_C</td>\n",
       "      <td>2.0</td>\n",
       "    </tr>\n",
       "    <tr>\n",
       "      <th>3</th>\n",
       "      <td>1262599</td>\n",
       "      <td>150</td>\n",
       "      <td>55</td>\n",
       "      <td>1885</td>\n",
       "      <td>159.14</td>\n",
       "      <td>157.14</td>\n",
       "      <td>0</td>\n",
       "      <td>0</td>\n",
       "      <td>Beverages</td>\n",
       "      <td>Thai</td>\n",
       "      <td>647</td>\n",
       "      <td>56</td>\n",
       "      <td>TYPE_C</td>\n",
       "      <td>2.0</td>\n",
       "    </tr>\n",
       "    <tr>\n",
       "      <th>4</th>\n",
       "      <td>1495848</td>\n",
       "      <td>151</td>\n",
       "      <td>55</td>\n",
       "      <td>1885</td>\n",
       "      <td>160.11</td>\n",
       "      <td>159.11</td>\n",
       "      <td>0</td>\n",
       "      <td>0</td>\n",
       "      <td>Beverages</td>\n",
       "      <td>Thai</td>\n",
       "      <td>647</td>\n",
       "      <td>56</td>\n",
       "      <td>TYPE_C</td>\n",
       "      <td>2.0</td>\n",
       "    </tr>\n",
       "  </tbody>\n",
       "</table>\n",
       "</div>"
      ],
      "text/plain": [
       "        id  week  center_id  meal_id  checkout_price  base_price  \\\n",
       "0  1028232   146         55     1885          158.11      159.11   \n",
       "1  1262649   147         55     1885          159.11      159.11   \n",
       "2  1453211   149         55     1885          157.14      158.14   \n",
       "3  1262599   150         55     1885          159.14      157.14   \n",
       "4  1495848   151         55     1885          160.11      159.11   \n",
       "\n",
       "   emailer_for_promotion  homepage_featured   category cuisine  city_code  \\\n",
       "0                      0                  0  Beverages    Thai        647   \n",
       "1                      0                  0  Beverages    Thai        647   \n",
       "2                      0                  0  Beverages    Thai        647   \n",
       "3                      0                  0  Beverages    Thai        647   \n",
       "4                      0                  0  Beverages    Thai        647   \n",
       "\n",
       "   region_code center_type  op_area  \n",
       "0           56      TYPE_C      2.0  \n",
       "1           56      TYPE_C      2.0  \n",
       "2           56      TYPE_C      2.0  \n",
       "3           56      TYPE_C      2.0  \n",
       "4           56      TYPE_C      2.0  "
      ]
     },
     "execution_count": 44,
     "metadata": {},
     "output_type": "execute_result"
    }
   ],
   "source": [
    "df4 = pd.read_csv('test_Q.csv')\n",
    "df5 = pd.merge(df4, df2,  on=\"meal_id\", how=\"outer\")\n",
    "dft = pd.merge(df5,df3, on='center_id', how='outer') \n",
    "dft.head()"
   ]
  },
  {
   "cell_type": "code",
   "execution_count": 45,
   "id": "11zVpEwmdJAA",
   "metadata": {
    "id": "11zVpEwmdJAA"
   },
   "outputs": [
    {
     "name": "stdout",
     "output_type": "stream",
     "text": [
      "<class 'pandas.core.frame.DataFrame'>\n",
      "Int64Index: 32573 entries, 0 to 32572\n",
      "Data columns (total 14 columns):\n",
      " #   Column                 Non-Null Count  Dtype  \n",
      "---  ------                 --------------  -----  \n",
      " 0   id                     32573 non-null  int64  \n",
      " 1   week                   32573 non-null  int64  \n",
      " 2   center_id              32573 non-null  int64  \n",
      " 3   meal_id                32573 non-null  int64  \n",
      " 4   checkout_price         32573 non-null  float64\n",
      " 5   base_price             32573 non-null  float64\n",
      " 6   emailer_for_promotion  32573 non-null  int64  \n",
      " 7   homepage_featured      32573 non-null  int64  \n",
      " 8   category               32573 non-null  object \n",
      " 9   cuisine                32573 non-null  object \n",
      " 10  city_code              32573 non-null  int64  \n",
      " 11  region_code            32573 non-null  int64  \n",
      " 12  center_type            32573 non-null  object \n",
      " 13  op_area                32573 non-null  float64\n",
      "dtypes: float64(3), int64(8), object(3)\n",
      "memory usage: 3.7+ MB\n"
     ]
    }
   ],
   "source": [
    "dft.info()"
   ]
  },
  {
   "cell_type": "code",
   "execution_count": 46,
   "id": "7UYd9Efqdk0X",
   "metadata": {
    "id": "7UYd9Efqdk0X"
   },
   "outputs": [
    {
     "data": {
      "text/plain": [
       "(32573, 14)"
      ]
     },
     "execution_count": 46,
     "metadata": {},
     "output_type": "execute_result"
    }
   ],
   "source": [
    "dft.shape"
   ]
  },
  {
   "cell_type": "code",
   "execution_count": 47,
   "id": "PuJ3aZImfaNp",
   "metadata": {
    "id": "PuJ3aZImfaNp"
   },
   "outputs": [],
   "source": [
    "cuis_d = pd.get_dummies(dft.cuisine, prefix='cuisine')\n",
    "dft = pd.concat([dft,cuis_d],axis=1)\n",
    "\n",
    "cat_d = pd.get_dummies(dft.category, prefix='category')\n",
    "dft = pd.concat([dft,cat_d],axis=1)\n",
    "\n",
    "cent_d = pd.get_dummies(dft.center_type, prefix='center_type')\n",
    "dft = pd.concat([dft,cent_d],axis=1)\n",
    "\n",
    "meal_d = pd.get_dummies(dft.meal_id, prefix='meal_id')\n",
    "dft = pd.concat([dft,meal_d],axis=1)\n",
    "\n",
    "op_area_d = pd.get_dummies(dft.op_area, prefix='op_area')\n",
    "dft = pd.concat([dft,op_area_d],axis=1)"
   ]
  },
  {
   "cell_type": "code",
   "execution_count": 48,
   "id": "1EHrqdBFgO-b",
   "metadata": {
    "id": "1EHrqdBFgO-b"
   },
   "outputs": [],
   "source": [
    "dft[\"Discount\"]=((dft[\"base_price\"]-dft[\"checkout_price\"])/dft[\"base_price\"])*100"
   ]
  },
  {
   "cell_type": "code",
   "execution_count": 49,
   "id": "VjTPCgN4ggTi",
   "metadata": {
    "id": "VjTPCgN4ggTi"
   },
   "outputs": [],
   "source": [
    "dft.drop(['week','meal_id','category','cuisine','city_code','region_code','center_type','op_area'],axis=1,inplace=True)"
   ]
  },
  {
   "cell_type": "code",
   "execution_count": 50,
   "id": "C9mY06bKgpe1",
   "metadata": {
    "id": "C9mY06bKgpe1"
   },
   "outputs": [
    {
     "data": {
      "text/plain": [
       "(32573, 109)"
      ]
     },
     "execution_count": 50,
     "metadata": {},
     "output_type": "execute_result"
    }
   ],
   "source": [
    "dft.shape"
   ]
  },
  {
   "cell_type": "code",
   "execution_count": 51,
   "id": "ZFeh2GHagq2S",
   "metadata": {
    "id": "ZFeh2GHagq2S"
   },
   "outputs": [],
   "source": [
    "y_preddd = rfr.predict(dft)"
   ]
  },
  {
   "cell_type": "code",
   "execution_count": null,
   "id": "46a92ddc",
   "metadata": {},
   "outputs": [],
   "source": []
  },
  {
   "cell_type": "code",
   "execution_count": 52,
   "id": "_Us76oWgjxEu",
   "metadata": {
    "id": "_Us76oWgjxEu"
   },
   "outputs": [],
   "source": [
    "df_final = pd.read_csv('sample.csv')\n",
    "df_final['num_orders'] = y_preddd\n",
    "df_final['id'] = dft['id']\n"
   ]
  },
  {
   "cell_type": "code",
   "execution_count": 53,
   "id": "RePhkMJEoYv3",
   "metadata": {
    "id": "RePhkMJEoYv3"
   },
   "outputs": [],
   "source": [
    "df_final.to_csv(\"raFor.csv\")"
   ]
  },
  {
   "cell_type": "code",
   "execution_count": 54,
   "id": "svURp7IWoaOZ",
   "metadata": {
    "id": "svURp7IWoaOZ"
   },
   "outputs": [
    {
     "data": {
      "text/html": [
       "<div>\n",
       "<style scoped>\n",
       "    .dataframe tbody tr th:only-of-type {\n",
       "        vertical-align: middle;\n",
       "    }\n",
       "\n",
       "    .dataframe tbody tr th {\n",
       "        vertical-align: top;\n",
       "    }\n",
       "\n",
       "    .dataframe thead th {\n",
       "        text-align: right;\n",
       "    }\n",
       "</style>\n",
       "<table border=\"1\" class=\"dataframe\">\n",
       "  <thead>\n",
       "    <tr style=\"text-align: right;\">\n",
       "      <th></th>\n",
       "      <th>id</th>\n",
       "      <th>center_id</th>\n",
       "      <th>checkout_price</th>\n",
       "      <th>base_price</th>\n",
       "      <th>emailer_for_promotion</th>\n",
       "      <th>homepage_featured</th>\n",
       "      <th>cuisine_Continental</th>\n",
       "      <th>cuisine_Indian</th>\n",
       "      <th>cuisine_Italian</th>\n",
       "      <th>cuisine_Thai</th>\n",
       "      <th>...</th>\n",
       "      <th>op_area_4.7</th>\n",
       "      <th>op_area_4.8</th>\n",
       "      <th>op_area_5.0</th>\n",
       "      <th>op_area_5.1</th>\n",
       "      <th>op_area_5.3</th>\n",
       "      <th>op_area_5.6</th>\n",
       "      <th>op_area_6.3</th>\n",
       "      <th>op_area_6.7</th>\n",
       "      <th>op_area_7.0</th>\n",
       "      <th>Discount</th>\n",
       "    </tr>\n",
       "  </thead>\n",
       "  <tbody>\n",
       "    <tr>\n",
       "      <th>0</th>\n",
       "      <td>1028232</td>\n",
       "      <td>55</td>\n",
       "      <td>158.11</td>\n",
       "      <td>159.11</td>\n",
       "      <td>0</td>\n",
       "      <td>0</td>\n",
       "      <td>0</td>\n",
       "      <td>0</td>\n",
       "      <td>0</td>\n",
       "      <td>1</td>\n",
       "      <td>...</td>\n",
       "      <td>0</td>\n",
       "      <td>0</td>\n",
       "      <td>0</td>\n",
       "      <td>0</td>\n",
       "      <td>0</td>\n",
       "      <td>0</td>\n",
       "      <td>0</td>\n",
       "      <td>0</td>\n",
       "      <td>0</td>\n",
       "      <td>0.628496</td>\n",
       "    </tr>\n",
       "    <tr>\n",
       "      <th>1</th>\n",
       "      <td>1127204</td>\n",
       "      <td>55</td>\n",
       "      <td>159.11</td>\n",
       "      <td>159.11</td>\n",
       "      <td>0</td>\n",
       "      <td>0</td>\n",
       "      <td>0</td>\n",
       "      <td>0</td>\n",
       "      <td>0</td>\n",
       "      <td>1</td>\n",
       "      <td>...</td>\n",
       "      <td>0</td>\n",
       "      <td>0</td>\n",
       "      <td>0</td>\n",
       "      <td>0</td>\n",
       "      <td>0</td>\n",
       "      <td>0</td>\n",
       "      <td>0</td>\n",
       "      <td>0</td>\n",
       "      <td>0</td>\n",
       "      <td>0.000000</td>\n",
       "    </tr>\n",
       "    <tr>\n",
       "      <th>2</th>\n",
       "      <td>1212707</td>\n",
       "      <td>55</td>\n",
       "      <td>157.14</td>\n",
       "      <td>158.14</td>\n",
       "      <td>0</td>\n",
       "      <td>0</td>\n",
       "      <td>0</td>\n",
       "      <td>0</td>\n",
       "      <td>0</td>\n",
       "      <td>1</td>\n",
       "      <td>...</td>\n",
       "      <td>0</td>\n",
       "      <td>0</td>\n",
       "      <td>0</td>\n",
       "      <td>0</td>\n",
       "      <td>0</td>\n",
       "      <td>0</td>\n",
       "      <td>0</td>\n",
       "      <td>0</td>\n",
       "      <td>0</td>\n",
       "      <td>0.632351</td>\n",
       "    </tr>\n",
       "    <tr>\n",
       "      <th>3</th>\n",
       "      <td>1082698</td>\n",
       "      <td>55</td>\n",
       "      <td>159.14</td>\n",
       "      <td>157.14</td>\n",
       "      <td>0</td>\n",
       "      <td>0</td>\n",
       "      <td>0</td>\n",
       "      <td>0</td>\n",
       "      <td>0</td>\n",
       "      <td>1</td>\n",
       "      <td>...</td>\n",
       "      <td>0</td>\n",
       "      <td>0</td>\n",
       "      <td>0</td>\n",
       "      <td>0</td>\n",
       "      <td>0</td>\n",
       "      <td>0</td>\n",
       "      <td>0</td>\n",
       "      <td>0</td>\n",
       "      <td>0</td>\n",
       "      <td>-1.272750</td>\n",
       "    </tr>\n",
       "    <tr>\n",
       "      <th>4</th>\n",
       "      <td>1400926</td>\n",
       "      <td>55</td>\n",
       "      <td>160.11</td>\n",
       "      <td>159.11</td>\n",
       "      <td>0</td>\n",
       "      <td>0</td>\n",
       "      <td>0</td>\n",
       "      <td>0</td>\n",
       "      <td>0</td>\n",
       "      <td>1</td>\n",
       "      <td>...</td>\n",
       "      <td>0</td>\n",
       "      <td>0</td>\n",
       "      <td>0</td>\n",
       "      <td>0</td>\n",
       "      <td>0</td>\n",
       "      <td>0</td>\n",
       "      <td>0</td>\n",
       "      <td>0</td>\n",
       "      <td>0</td>\n",
       "      <td>-0.628496</td>\n",
       "    </tr>\n",
       "    <tr>\n",
       "      <th>...</th>\n",
       "      <td>...</td>\n",
       "      <td>...</td>\n",
       "      <td>...</td>\n",
       "      <td>...</td>\n",
       "      <td>...</td>\n",
       "      <td>...</td>\n",
       "      <td>...</td>\n",
       "      <td>...</td>\n",
       "      <td>...</td>\n",
       "      <td>...</td>\n",
       "      <td>...</td>\n",
       "      <td>...</td>\n",
       "      <td>...</td>\n",
       "      <td>...</td>\n",
       "      <td>...</td>\n",
       "      <td>...</td>\n",
       "      <td>...</td>\n",
       "      <td>...</td>\n",
       "      <td>...</td>\n",
       "      <td>...</td>\n",
       "      <td>...</td>\n",
       "    </tr>\n",
       "    <tr>\n",
       "      <th>32568</th>\n",
       "      <td>1250239</td>\n",
       "      <td>61</td>\n",
       "      <td>583.03</td>\n",
       "      <td>581.03</td>\n",
       "      <td>0</td>\n",
       "      <td>0</td>\n",
       "      <td>1</td>\n",
       "      <td>0</td>\n",
       "      <td>0</td>\n",
       "      <td>0</td>\n",
       "      <td>...</td>\n",
       "      <td>0</td>\n",
       "      <td>0</td>\n",
       "      <td>0</td>\n",
       "      <td>0</td>\n",
       "      <td>0</td>\n",
       "      <td>0</td>\n",
       "      <td>0</td>\n",
       "      <td>0</td>\n",
       "      <td>0</td>\n",
       "      <td>-0.344216</td>\n",
       "    </tr>\n",
       "    <tr>\n",
       "      <th>32569</th>\n",
       "      <td>1039516</td>\n",
       "      <td>61</td>\n",
       "      <td>582.03</td>\n",
       "      <td>582.03</td>\n",
       "      <td>0</td>\n",
       "      <td>1</td>\n",
       "      <td>1</td>\n",
       "      <td>0</td>\n",
       "      <td>0</td>\n",
       "      <td>0</td>\n",
       "      <td>...</td>\n",
       "      <td>0</td>\n",
       "      <td>0</td>\n",
       "      <td>0</td>\n",
       "      <td>0</td>\n",
       "      <td>0</td>\n",
       "      <td>0</td>\n",
       "      <td>0</td>\n",
       "      <td>0</td>\n",
       "      <td>0</td>\n",
       "      <td>0.000000</td>\n",
       "    </tr>\n",
       "    <tr>\n",
       "      <th>32570</th>\n",
       "      <td>1158107</td>\n",
       "      <td>61</td>\n",
       "      <td>629.53</td>\n",
       "      <td>629.53</td>\n",
       "      <td>0</td>\n",
       "      <td>0</td>\n",
       "      <td>1</td>\n",
       "      <td>0</td>\n",
       "      <td>0</td>\n",
       "      <td>0</td>\n",
       "      <td>...</td>\n",
       "      <td>0</td>\n",
       "      <td>0</td>\n",
       "      <td>0</td>\n",
       "      <td>0</td>\n",
       "      <td>0</td>\n",
       "      <td>0</td>\n",
       "      <td>0</td>\n",
       "      <td>0</td>\n",
       "      <td>0</td>\n",
       "      <td>0.000000</td>\n",
       "    </tr>\n",
       "    <tr>\n",
       "      <th>32571</th>\n",
       "      <td>1444235</td>\n",
       "      <td>61</td>\n",
       "      <td>629.53</td>\n",
       "      <td>629.53</td>\n",
       "      <td>0</td>\n",
       "      <td>0</td>\n",
       "      <td>1</td>\n",
       "      <td>0</td>\n",
       "      <td>0</td>\n",
       "      <td>0</td>\n",
       "      <td>...</td>\n",
       "      <td>0</td>\n",
       "      <td>0</td>\n",
       "      <td>0</td>\n",
       "      <td>0</td>\n",
       "      <td>0</td>\n",
       "      <td>0</td>\n",
       "      <td>0</td>\n",
       "      <td>0</td>\n",
       "      <td>0</td>\n",
       "      <td>0.000000</td>\n",
       "    </tr>\n",
       "    <tr>\n",
       "      <th>32572</th>\n",
       "      <td>1291286</td>\n",
       "      <td>61</td>\n",
       "      <td>630.53</td>\n",
       "      <td>631.53</td>\n",
       "      <td>0</td>\n",
       "      <td>0</td>\n",
       "      <td>1</td>\n",
       "      <td>0</td>\n",
       "      <td>0</td>\n",
       "      <td>0</td>\n",
       "      <td>...</td>\n",
       "      <td>0</td>\n",
       "      <td>0</td>\n",
       "      <td>0</td>\n",
       "      <td>0</td>\n",
       "      <td>0</td>\n",
       "      <td>0</td>\n",
       "      <td>0</td>\n",
       "      <td>0</td>\n",
       "      <td>0</td>\n",
       "      <td>0.158346</td>\n",
       "    </tr>\n",
       "  </tbody>\n",
       "</table>\n",
       "<p>32573 rows × 109 columns</p>\n",
       "</div>"
      ],
      "text/plain": [
       "            id  center_id  checkout_price  base_price  emailer_for_promotion  \\\n",
       "0      1028232         55          158.11      159.11                      0   \n",
       "1      1127204         55          159.11      159.11                      0   \n",
       "2      1212707         55          157.14      158.14                      0   \n",
       "3      1082698         55          159.14      157.14                      0   \n",
       "4      1400926         55          160.11      159.11                      0   \n",
       "...        ...        ...             ...         ...                    ...   \n",
       "32568  1250239         61          583.03      581.03                      0   \n",
       "32569  1039516         61          582.03      582.03                      0   \n",
       "32570  1158107         61          629.53      629.53                      0   \n",
       "32571  1444235         61          629.53      629.53                      0   \n",
       "32572  1291286         61          630.53      631.53                      0   \n",
       "\n",
       "       homepage_featured  cuisine_Continental  cuisine_Indian  \\\n",
       "0                      0                    0               0   \n",
       "1                      0                    0               0   \n",
       "2                      0                    0               0   \n",
       "3                      0                    0               0   \n",
       "4                      0                    0               0   \n",
       "...                  ...                  ...             ...   \n",
       "32568                  0                    1               0   \n",
       "32569                  1                    1               0   \n",
       "32570                  0                    1               0   \n",
       "32571                  0                    1               0   \n",
       "32572                  0                    1               0   \n",
       "\n",
       "       cuisine_Italian  cuisine_Thai  ...  op_area_4.7  op_area_4.8  \\\n",
       "0                    0             1  ...            0            0   \n",
       "1                    0             1  ...            0            0   \n",
       "2                    0             1  ...            0            0   \n",
       "3                    0             1  ...            0            0   \n",
       "4                    0             1  ...            0            0   \n",
       "...                ...           ...  ...          ...          ...   \n",
       "32568                0             0  ...            0            0   \n",
       "32569                0             0  ...            0            0   \n",
       "32570                0             0  ...            0            0   \n",
       "32571                0             0  ...            0            0   \n",
       "32572                0             0  ...            0            0   \n",
       "\n",
       "       op_area_5.0  op_area_5.1  op_area_5.3  op_area_5.6  op_area_6.3  \\\n",
       "0                0            0            0            0            0   \n",
       "1                0            0            0            0            0   \n",
       "2                0            0            0            0            0   \n",
       "3                0            0            0            0            0   \n",
       "4                0            0            0            0            0   \n",
       "...            ...          ...          ...          ...          ...   \n",
       "32568            0            0            0            0            0   \n",
       "32569            0            0            0            0            0   \n",
       "32570            0            0            0            0            0   \n",
       "32571            0            0            0            0            0   \n",
       "32572            0            0            0            0            0   \n",
       "\n",
       "       op_area_6.7  op_area_7.0  Discount  \n",
       "0                0            0  0.628496  \n",
       "1                0            0  0.000000  \n",
       "2                0            0  0.632351  \n",
       "3                0            0 -1.272750  \n",
       "4                0            0 -0.628496  \n",
       "...            ...          ...       ...  \n",
       "32568            0            0 -0.344216  \n",
       "32569            0            0  0.000000  \n",
       "32570            0            0  0.000000  \n",
       "32571            0            0  0.000000  \n",
       "32572            0            0  0.158346  \n",
       "\n",
       "[32573 rows x 109 columns]"
      ]
     },
     "execution_count": 54,
     "metadata": {},
     "output_type": "execute_result"
    }
   ],
   "source": [
    "dft['id'] = df4['id']\n",
    "dft"
   ]
  },
  {
   "cell_type": "code",
   "execution_count": 55,
   "id": "Ia4FqqVBo4ui",
   "metadata": {
    "id": "Ia4FqqVBo4ui"
   },
   "outputs": [
    {
     "data": {
      "text/html": [
       "<div>\n",
       "<style scoped>\n",
       "    .dataframe tbody tr th:only-of-type {\n",
       "        vertical-align: middle;\n",
       "    }\n",
       "\n",
       "    .dataframe tbody tr th {\n",
       "        vertical-align: top;\n",
       "    }\n",
       "\n",
       "    .dataframe thead th {\n",
       "        text-align: right;\n",
       "    }\n",
       "</style>\n",
       "<table border=\"1\" class=\"dataframe\">\n",
       "  <thead>\n",
       "    <tr style=\"text-align: right;\">\n",
       "      <th></th>\n",
       "      <th>id</th>\n",
       "      <th>num_orders</th>\n",
       "    </tr>\n",
       "  </thead>\n",
       "  <tbody>\n",
       "    <tr>\n",
       "      <th>0</th>\n",
       "      <td>1028232</td>\n",
       "      <td>153.275</td>\n",
       "    </tr>\n",
       "    <tr>\n",
       "      <th>1</th>\n",
       "      <td>1262649</td>\n",
       "      <td>153.250</td>\n",
       "    </tr>\n",
       "    <tr>\n",
       "      <th>2</th>\n",
       "      <td>1453211</td>\n",
       "      <td>108.725</td>\n",
       "    </tr>\n",
       "    <tr>\n",
       "      <th>3</th>\n",
       "      <td>1262599</td>\n",
       "      <td>152.150</td>\n",
       "    </tr>\n",
       "    <tr>\n",
       "      <th>4</th>\n",
       "      <td>1495848</td>\n",
       "      <td>142.850</td>\n",
       "    </tr>\n",
       "    <tr>\n",
       "      <th>...</th>\n",
       "      <td>...</td>\n",
       "      <td>...</td>\n",
       "    </tr>\n",
       "    <tr>\n",
       "      <th>32568</th>\n",
       "      <td>1412025</td>\n",
       "      <td>44.525</td>\n",
       "    </tr>\n",
       "    <tr>\n",
       "      <th>32569</th>\n",
       "      <td>1287019</td>\n",
       "      <td>76.500</td>\n",
       "    </tr>\n",
       "    <tr>\n",
       "      <th>32570</th>\n",
       "      <td>1396176</td>\n",
       "      <td>38.525</td>\n",
       "    </tr>\n",
       "    <tr>\n",
       "      <th>32571</th>\n",
       "      <td>1331977</td>\n",
       "      <td>31.325</td>\n",
       "    </tr>\n",
       "    <tr>\n",
       "      <th>32572</th>\n",
       "      <td>1017414</td>\n",
       "      <td>42.325</td>\n",
       "    </tr>\n",
       "  </tbody>\n",
       "</table>\n",
       "<p>32573 rows × 2 columns</p>\n",
       "</div>"
      ],
      "text/plain": [
       "            id  num_orders\n",
       "0      1028232     153.275\n",
       "1      1262649     153.250\n",
       "2      1453211     108.725\n",
       "3      1262599     152.150\n",
       "4      1495848     142.850\n",
       "...        ...         ...\n",
       "32568  1412025      44.525\n",
       "32569  1287019      76.500\n",
       "32570  1396176      38.525\n",
       "32571  1331977      31.325\n",
       "32572  1017414      42.325\n",
       "\n",
       "[32573 rows x 2 columns]"
      ]
     },
     "execution_count": 55,
     "metadata": {},
     "output_type": "execute_result"
    }
   ],
   "source": [
    "df_final"
   ]
  },
  {
   "cell_type": "code",
   "execution_count": null,
   "id": "579ee66a",
   "metadata": {},
   "outputs": [],
   "source": []
  }
 ],
 "metadata": {
  "accelerator": "GPU",
  "colab": {
   "name": "Untitled4.ipynb",
   "provenance": []
  },
  "kernelspec": {
   "display_name": "Python 3",
   "language": "python",
   "name": "python3"
  },
  "language_info": {
   "codemirror_mode": {
    "name": "ipython",
    "version": 3
   },
   "file_extension": ".py",
   "mimetype": "text/x-python",
   "name": "python",
   "nbconvert_exporter": "python",
   "pygments_lexer": "ipython3",
   "version": "3.7.7"
  }
 },
 "nbformat": 4,
 "nbformat_minor": 5
}
